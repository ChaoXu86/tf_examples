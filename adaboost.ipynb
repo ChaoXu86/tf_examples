{
 "cells": [
  {
   "cell_type": "code",
   "execution_count": 1,
   "metadata": {
    "collapsed": true
   },
   "outputs": [],
   "source": [
    "from numpy import *\n",
    "import matplotlib.pyplot as plt"
   ]
  },
  {
   "cell_type": "code",
   "execution_count": 2,
   "metadata": {
    "collapsed": true
   },
   "outputs": [],
   "source": [
    "def loadSimpleData():\n",
    "    dataMat = matrix([\n",
    "    [1., 2.1], \n",
    "    [2., 1.1], \n",
    "    [1.3, 1.], \n",
    "    [1., 1.], \n",
    "    [2., 1.]])\n",
    "    classLabels = [1.0, 1.0, -1.0, -1.0, 1.0]\n",
    "    return dataMat, classLabels"
   ]
  },
  {
   "cell_type": "code",
   "execution_count": 3,
   "metadata": {
    "collapsed": true
   },
   "outputs": [],
   "source": [
    "def stumpClassify(dataMatrix, dimen, threshVal, threshIneq):\n",
    "    retArray = ones((shape(dataMatrix)[0],1))\n",
    "    if threshIneq == 'lt':\n",
    "        retArray[dataMatrix[:,dimen] <= threshVal] = -1.0\n",
    "    else:\n",
    "        retArray[dataMatrix[:,dimen] > threshVal] = -1.0\n",
    "    return retArray"
   ]
  },
  {
   "cell_type": "code",
   "execution_count": 4,
   "metadata": {
    "collapsed": true
   },
   "outputs": [],
   "source": [
    "def buildStump(dataArr, classLabels, D):\n",
    "    dataMatrix = mat(dataArr);labelMat = mat(classLabels).T\n",
    "    m,n = shape(dataMatrix)\n",
    "    numSteps = 10.0; bestStump = {}; bestClasEst = mat(zeros((m,1)))\n",
    "    minError = inf\n",
    "    for i in range(n):        \n",
    "        rangeMin = dataMatrix[:,i].min(); rangeMax = dataMatrix[:,i].max();\n",
    "        stepSize = (rangeMax - rangeMin) / numSteps\n",
    "        for j in range(-1, int(numSteps) + 1):\n",
    "            for inequal in ['lt', 'gt']:\n",
    "                threshVal = (rangeMin + float(j) * stepSize)\n",
    "                predictedVals = stumpClassify(dataMatrix,i,threshVal,inequal)\n",
    "                errArr = mat(ones((m,1)))\n",
    "                errArr[predictedVals == labelMat] = 0\n",
    "                weightedError = D.T * errArr                \n",
    "                if weightedError < minError:                    \n",
    "                    minError = weightedError\n",
    "                    bestClasEst = predictedVals.copy()\n",
    "                    bestStump['dim'] = i\n",
    "                    bestStump['thresh'] = threshVal\n",
    "                    bestStump['ineq'] = inequal\n",
    "    return bestStump,minError,bestClasEst"
   ]
  },
  {
   "cell_type": "code",
   "execution_count": 5,
   "metadata": {
    "collapsed": true
   },
   "outputs": [],
   "source": [
    "def adaBoostTrainDS(dataArr,classLabels,numIt=40):\n",
    "    weakClassArr = []\n",
    "    m = shape(dataArr)[0]\n",
    "    D = mat(ones((m,1))/m)\n",
    "    aggClassEst = mat(zeros((m,1)))\n",
    "    for i in range(numIt):        \n",
    "        bestStump,error,classEst = buildStump(dataArr,classLabels,D)        \n",
    "        alpha = float(0.5*log((1.0-error)/max(error,1e-16)))\n",
    "        bestStump['alpha'] = alpha\n",
    "        weakClassArr.append(bestStump)      \n",
    "        expon = multiply(-1*alpha*mat(classLabels).T,classEst)\n",
    "        D = multiply(D,exp(expon))\n",
    "        D = D/D.sum()\n",
    "        aggClassEst += alpha*classEst   \n",
    "        aggErrors = multiply(sign(aggClassEst)!=mat(classLabels).T,ones((m,1)))\n",
    "        errorRate = aggErrors.sum()/m        \n",
    "        if errorRate < 1e-16: \n",
    "            break\n",
    "    return weakClassArr"
   ]
  },
  {
   "cell_type": "code",
   "execution_count": 6,
   "metadata": {
    "collapsed": true
   },
   "outputs": [],
   "source": [
    "def adaClassify(datToClass, classifierArr):\n",
    "    dataMatrix = mat(datToClass)\n",
    "    m = shape(dataMatrix)[0]\n",
    "    aggClassEst = mat(zeros((m,1)))\n",
    "    for i in range(len(classifierArr)):\n",
    "        classEst = stumpClassify(dataMatrix, classifierArr[i]['dim'],classifierArr[i]['thresh'],classifierArr[i]['ineq'])\n",
    "        aggClassEst += classifierArr[i]['alpha']*classEst    \n",
    "    return sign(aggClassEst)"
   ]
  },
  {
   "cell_type": "code",
   "execution_count": 7,
   "metadata": {
    "collapsed": true
   },
   "outputs": [],
   "source": [
    "def getDecisionBoundary(classifierArr, xrange, yrange, step=0.03):\n",
    "    x_min = xrange[0]\n",
    "    x_max = xrange[1]\n",
    "    y_min = yrange[0]\n",
    "    y_max = yrange[1]\n",
    "    \n",
    "    retX1 = []\n",
    "    retY1 = []\n",
    "    \n",
    "    for i in range(0,int((x_max-x_min)/step) + 1):\n",
    "        x = x_min + step*i\n",
    "        sign = 0\n",
    "        for j in range(0, int((y_max-y_min)/step)+1):\n",
    "            y = y_min + step*j\n",
    "            new_sign = adaClassify([x,y], classifierArr)\n",
    "            if sign == 0:\n",
    "                sign = new_sign\n",
    "            elif sign != new_sign:\n",
    "                retX1.append(x)\n",
    "                retY1.append(y)\n",
    "                break\n",
    "    \n",
    "    retX2 = []\n",
    "    retY2 = []\n",
    "    for i in range(0, int((y_max-y_min)/step)+2):\n",
    "        y = y_min + step*i\n",
    "        sign = 0\n",
    "        for j in range(0,int((x_max-x_min)/step) + 2):\n",
    "            x = x_min + step*j\n",
    "            new_sign = adaClassify([x,y], classifierArr)\n",
    "            if sign == 0:\n",
    "                sign = new_sign\n",
    "            elif sign != new_sign:\n",
    "                retX2.append(x)\n",
    "                retY2.append(y)\n",
    "                break\n",
    "                \n",
    "    return retX1, retY1, retX2, retY2"
   ]
  },
  {
   "cell_type": "code",
   "execution_count": 8,
   "metadata": {
    "collapsed": true
   },
   "outputs": [],
   "source": [
    "dataMat,classLabels = loadSimpleData()\n",
    "classifierArray = adaBoostTrainDS(dataMat,classLabels,9)"
   ]
  },
  {
   "cell_type": "code",
   "execution_count": 9,
   "metadata": {
    "collapsed": false
   },
   "outputs": [
    {
     "name": "stdout",
     "output_type": "stream",
     "text": [
      "point  [0.92, 4] classified as 1\n"
     ]
    }
   ],
   "source": [
    "testPoint = [.92,4]\n",
    "print(\"point \", testPoint, \"classified as %d\" % (adaClassify(testPoint,classifierArray)))"
   ]
  },
  {
   "cell_type": "code",
   "execution_count": 10,
   "metadata": {
    "collapsed": false
   },
   "outputs": [],
   "source": [
    "X1_db,Y1_db,X2_db,Y2_db = getDecisionBoundary(classifierArray,[0,2.5],[0,2.5])"
   ]
  },
  {
   "cell_type": "code",
   "execution_count": 11,
   "metadata": {
    "collapsed": false
   },
   "outputs": [
    {
     "data": {
      "image/png": "[encoded data removed]",
      "text/plain": [
       "<matplotlib.figure.Figure at 0x203e9739d30>"
      ]
     },
     "metadata": {},
     "output_type": "display_data"
    }
   ],
   "source": [
    "fig=plt.figure()\n",
    "plt.scatter(dataMat[:,0],dataMat[:,1],s=40,c=classLabels)\n",
    "plt.plot(X1_db,Y1_db)\n",
    "plt.plot(X2_db,Y2_db)\n",
    "plt.xlim(0,2.5)\n",
    "plt.ylim(0,2.5)\n",
    "plt.show()"
   ]
  },
  {
   "cell_type": "code",
   "execution_count": null,
   "metadata": {
    "collapsed": true
   },
   "outputs": [],
   "source": []
  }
 ],
 "metadata": {
  "kernelspec": {
   "display_name": "Python 3",
   "language": "python",
   "name": "python3"
  },
  "language_info": {
   "codemirror_mode": {
    "name": "ipython",
    "version": 3
   },
   "file_extension": ".py",
   "mimetype": "text/x-python",
   "name": "python",
   "nbconvert_exporter": "python",
   "pygments_lexer": "ipython3",
   "version": "3.5.1"
  }
 },
 "nbformat": 4,
 "nbformat_minor": 2
}
