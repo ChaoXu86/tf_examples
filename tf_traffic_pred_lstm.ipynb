{
 "cells": [
  {
   "cell_type": "code",
   "execution_count": 1,
   "metadata": {
    "collapsed": false,
    "deletable": true,
    "editable": true
   },
   "outputs": [],
   "source": [
    "\"\"\"\n",
    "LSTM model to predict network traffic.\n",
    "Current traffic data is retrived from live Ericsson's MME.\n",
    "\n",
    "The data is stored in csv format and each column is seperated by comma\n",
    "date      ,time    ,counter\n",
    "2017.03.26,03:00:03,47083475\n",
    "2017.03.26,04:00:03,46852978\n",
    "2017.03.26,05:00:03,48001319\n",
    "...\n",
    "\n",
    "\"\"\"\n",
    "\n",
    "import matplotlib.pyplot as plt\n",
    "import pandas as pd\n",
    "import numpy as np\n",
    "import tensorflow as tf\n",
    "\n",
    "plt.rcParams['figure.figsize'] = (8.0, 8.0) # set default size of plots"
   ]
  },
  {
   "cell_type": "code",
   "execution_count": 2,
   "metadata": {
    "collapsed": true,
    "deletable": true,
    "editable": true
   },
   "outputs": [],
   "source": [
    "dataFile        = \"./CMCC_hnzz_ETH1_25_inbound_data/201703250700201703312300.csv\" \n",
    "\n",
    "# init param\n",
    "seq_size          = 24      # always use last past 24 hours' data to predict next hour\n",
    "train_data_size   = 24 * 3  # 72 hours' data for training\n",
    "prediction_size   = 68      # predict next 68 hours' traffic\n",
    "input_dim         = 1       # input dimension\n",
    "hidden_layer_size = 16      # hidden layer size\n",
    "\n",
    "# save model file name\n",
    "saveModeFile    = \"./pred_\" + \"s\" + str(seq_size) + \"t\" + str(train_data_size) + \".model\" # save trained model"
   ]
  },
  {
   "cell_type": "code",
   "execution_count": 3,
   "metadata": {
    "collapsed": false,
    "deletable": true,
    "editable": true
   },
   "outputs": [],
   "source": [
    "def ass_rnn(hidden_layer_size=6):\n",
    "    # random initialize is not good, sometimes model could not converge\n",
    "    W = tf.Variable(tf.random_normal([hidden_layer_size, 1]), name='W')\n",
    "    b = tf.Variable(tf.random_normal([1]), name='b')\n",
    "    cell = tf.contrib.rnn.BasicLSTMCell(hidden_layer_size)\n",
    "    (outputs, states) = tf.nn.dynamic_rnn(cell, X, dtype=tf.float32)\n",
    "    W_repeated = tf.tile(tf.expand_dims(W, 0), [tf.shape(X)[0], 1, 1])\n",
    "    out = tf.matmul(outputs, W_repeated) + b\n",
    "    out = tf.squeeze(out)\n",
    "    return out"
   ]
  },
  {
   "cell_type": "code",
   "execution_count": 4,
   "metadata": {
    "collapsed": true,
    "deletable": true,
    "editable": true
   },
   "outputs": [],
   "source": [
    "def train_rnn(train_x, train_y):        \n",
    "\n",
    "    loss = tf.reduce_mean(tf.square(out - Y))\n",
    "    train_op = tf.train.AdamOptimizer(learning_rate=0.003).minimize(loss)\n",
    "\n",
    "    saver = tf.train.Saver(tf.global_variables())\n",
    "    with tf.Session() as sess:\n",
    "        tf.get_variable_scope().reuse_variables()\n",
    "        sess.run(tf.global_variables_initializer())\n",
    "\n",
    "        for step in range(10001):\n",
    "            _, loss_ = sess.run([train_op, loss], feed_dict={X: train_x, Y: train_y})\n",
    "\n",
    "            if step % 1000 == 0:                \n",
    "                print(step, loss_)\n",
    "        print(\"save model: \", saver.save(sess, saveModeFile))"
   ]
  },
  {
   "cell_type": "code",
   "execution_count": 5,
   "metadata": {
    "collapsed": true,
    "deletable": true,
    "editable": true
   },
   "outputs": [],
   "source": [
    "def prediction():\n",
    "    saver = tf.train.Saver(tf.global_variables())\n",
    "    with tf.Session() as sess:            \n",
    "        saver.restore(sess, saveModeFile)\n",
    "        \n",
    "        prev_seq = train_x[-1]\n",
    "        predict = []\n",
    "        \n",
    "        for i in range(prediction_size):\n",
    "            next_seq = sess.run(out, feed_dict={X: [prev_seq]})\n",
    "            predict.append(next_seq[-1])\n",
    "            prev_seq = np.vstack((prev_seq[1:], next_seq[-1]))\n",
    "\n",
    "    \n",
    "    pred_indice = list(range(len(normalized_data) - 2 , max(len(normalized_data) + len(predict) - 2, len(normalized_data))) )   \n",
    "    actual_val  = normalized_alldata[pred_indice]    \n",
    "    MSE_pred    = (actual_val - predict) ** 2 / len(pred_indice)\n",
    "    print(\"MSE of %d hours' prediction is %5f \" % (prediction_size, np.sum(MSE_pred)))\n",
    "    \n",
    "    \n",
    "    # visualization\n",
    "    plt.figure()    \n",
    "    ax = plt.gca()    \n",
    "    \n",
    "    ticks = [i * 16 for i in range(24)] # one tick every 16 hours\n",
    "    ax.set_xticks(ticks)\n",
    "    ax.set_xticklabels(df['time'][ticks])    \n",
    "    ax.set_title(\"Prediction of trafic\")\n",
    "    plt.xlabel('Data-time')\n",
    "    plt.ylabel('Counter')\n",
    "        \n",
    "    legend_act,  = plt.plot(list(range(len(normalized_alldata))), normalized_alldata * np.std(rawdata) + np.mean(rawdata), color='b')    \n",
    "    legend_pred, = plt.plot(list(range(len(normalized_data) - 2 , len(normalized_data) + len(predict) - 2)), np.array(predict) * np.std(rawdata) + np.mean(rawdata), color='r')        \n",
    "    plt.legend((legend_act,legend_pred,),(\"actual\",\"prediction\",))\n",
    "    plt.show()\n"
   ]
  },
  {
   "cell_type": "code",
   "execution_count": 6,
   "metadata": {
    "collapsed": false,
    "deletable": true,
    "editable": true
   },
   "outputs": [],
   "source": [
    "X = tf.placeholder(tf.float32, [None, seq_size, input_dim])\n",
    "Y = tf.placeholder(tf.float32, [None, seq_size])"
   ]
  },
  {
   "cell_type": "code",
   "execution_count": 7,
   "metadata": {
    "collapsed": false,
    "deletable": true,
    "editable": true
   },
   "outputs": [],
   "source": [
    "# normalize\n",
    "df                 = pd.read_csv(dataFile)  \n",
    "rawdata            = np.array(df['counter'])\n",
    "normalized_alldata = (rawdata - np.mean(rawdata)) / np.std(rawdata)\n",
    "normalized_data    = normalized_alldata[0:train_data_size] "
   ]
  },
  {
   "cell_type": "code",
   "execution_count": 8,
   "metadata": {
    "collapsed": true,
    "deletable": true,
    "editable": true
   },
   "outputs": [],
   "source": [
    "# prepare training data\n",
    "train_x, train_y = [], []\n",
    "for i in range(len(normalized_data) - seq_size - 1):\n",
    "    train_x.append(np.expand_dims(normalized_data[i : i + seq_size], axis=1).tolist())\n",
    "    train_y.append(normalized_data[i + 1 : i + seq_size + 1].tolist())"
   ]
  },
  {
   "cell_type": "code",
   "execution_count": 9,
   "metadata": {
    "collapsed": false,
    "deletable": true,
    "editable": true
   },
   "outputs": [
    {
     "name": "stdout",
     "output_type": "stream",
     "text": [
      "0 4.23403\n",
      "1000 0.0184147\n",
      "2000 0.0127838\n",
      "3000 0.0110009\n",
      "4000 0.00972542\n",
      "5000 0.00892188\n",
      "6000 0.00829149\n",
      "7000 0.0077418\n",
      "8000 0.00733041\n",
      "9000 0.00706952\n",
      "10000 0.00692143\n",
      "save model:  ./pred_s24t72.model\n"
     ]
    }
   ],
   "source": [
    "out = ass_rnn(hidden_layer_size)\n",
    "train_rnn(train_x,train_y)"
   ]
  },
  {
   "cell_type": "code",
   "execution_count": 10,
   "metadata": {
    "collapsed": false,
    "deletable": true,
    "editable": true
   },
   "outputs": [
    {
     "name": "stdout",
     "output_type": "stream",
     "text": [
      "INFO:tensorflow:Restoring parameters from ./pred_s24t72.model\n",
      "MSE of 68 hours' prediction is 0.016983 \n"
     ]
    },
    {
     "data": {
      "image/png": "[encoded data removed]",
      "text/plain": [
       "<matplotlib.figure.Figure at 0xd64d208>"
      ]
     },
     "metadata": {},
     "output_type": "display_data"
    }
   ],
   "source": [
    "prediction()"
   ]
  },
  {
   "cell_type": "code",
   "execution_count": null,
   "metadata": {
    "collapsed": true,
    "deletable": true,
    "editable": true
   },
   "outputs": [],
   "source": []
  }
 ],
 "metadata": {
  "kernelspec": {
   "display_name": "Python 3",
   "language": "python",
   "name": "python3"
  },
  "language_info": {
   "codemirror_mode": {
    "name": "ipython",
    "version": 3
   },
   "file_extension": ".py",
   "mimetype": "text/x-python",
   "name": "python",
   "nbconvert_exporter": "python",
   "pygments_lexer": "ipython3",
   "version": "3.5.2"
  }
 },
 "nbformat": 4,
 "nbformat_minor": 2
}
